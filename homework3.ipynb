{
 "cells": [
  {
   "cell_type": "code",
   "execution_count": 17,
   "id": "e79b451e",
   "metadata": {},
   "outputs": [
    {
     "name": "stdout",
     "output_type": "stream",
     "text": [
      "Retrieving http://py4e-data.dr-chuck.net/comments_2214786.xml \n",
      "Retrieved 4208 characters\n",
      "Count: 50\n",
      "Sum: 2578\n"
     ]
    }
   ],
   "source": [
    "import urllib.request\n",
    "import xml.etree.ElementTree as ET\n",
    "\n",
    "url = input('Enter location: ')\n",
    "if len(url) < 1 : \n",
    "    url = 'http://py4e-data.dr-chuck.net/comments_2214786.xml '\n",
    "\n",
    "print('Retrieving', url)\n",
    "uh = urllib.request.urlopen(url)\n",
    "data = uh.read()\n",
    "\n",
    "\n",
    "print('Retrieved',len(data),'characters')\n",
    "tree = ET.fromstring(data)\n",
    "\n",
    "counts = tree.findall('.//count')\n",
    "\n",
    "\n",
    "nums = list()\n",
    "for result in counts:\n",
    "    nums.append(int(result.text))\n",
    "print('Count:', len(nums))\n",
    "print('Sum:', sum(nums))\n",
    "\n"
   ]
  }
 ],
 "metadata": {
  "kernelspec": {
   "display_name": "jupyter",
   "language": "python",
   "name": "python3"
  },
  "language_info": {
   "codemirror_mode": {
    "name": "ipython",
    "version": 3
   },
   "file_extension": ".py",
   "mimetype": "text/x-python",
   "name": "python",
   "nbconvert_exporter": "python",
   "pygments_lexer": "ipython3",
   "version": "3.13.2"
  }
 },
 "nbformat": 4,
 "nbformat_minor": 5
}
