import folium as folium
from folium.plugins import HeatMap
import pandas as pd
import numpy as np

# 1. 创建基础地图（以北京为中心）
m = folium.Map(
    location=[39.9042, 116.4074],  # 中心点经纬度（纬度在前，经度在后）
    zoom_start=12,                  # 初始缩放级别
    tiles="Stamen Terrain",         # 地图样式（地形图）
    control_scale=True              # 显示比例尺
)

# 2. 添加标记与弹出信息（天安门广场）
folium.Marker(
    location=[39.9042, 116.4074],
    popup="<b>天安门广场</b>",        # 支持HTML格式
    icon=folium.Icon(color="red", icon="info-sign")
).add_to(m)

# 3. 添加圆形标记（故宫博物院区域）
folium.CircleMarker(
    location=[39.9163, 116.3903],
    radius=50,                      # 半径（单位：像素）
    color="#3186cc",                # 边框颜色
    fill=True,
    fill_opacity=0.7,
    popup="故宫博物院"
).add_to(m)

# 4. 生成随机热力图数据（模拟人口密度）
np.random.seed(42)
heat_data = np.random.normal(
    loc=[39.9042, 116.4074], 
    scale=[0.1, 0.1], 
    size=(100, 2)
).tolist()
HeatMap(heat_data, radius=15).add_to(m)  # radius控制热力点半径

# 5. 结合Pandas数据框（标记城市位置）
cities = pd.DataFrame({
    "City": ["上海", "广州", "重庆"],
    "Latitude": [31.2304, 23.1291, 29.5630],
    "Longitude": [121.4737, 113.2644, 106.5516],
    "Population": [2424, 1530, 3205]  # 单位：万
})

# 按人口比例添加动态标记
for _, row in cities.iterrows():
    folium.Circle(
        location=[row["Latitude"], row["Longitude"]],
        radius=row["Population"] * 10,  # 每万人对应10米半径
        color="green",
        fill=True,
        popup=f"{row['City']}人口：{row['Population']}万"
    ).add_to(m)

# 6. 保存地图为HTML文件
m.save("china_map.html")
