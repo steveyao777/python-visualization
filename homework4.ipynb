{
 "cells": [
  {
   "cell_type": "code",
   "execution_count": 14,
   "id": "71216922",
   "metadata": {},
   "outputs": [
    {
     "name": "stdout",
     "output_type": "stream",
     "text": [
      "Retrieving http://py4e-data.dr-chuck.net/comments_2214787.json\n",
      "Sum: 2263\n"
     ]
    }
   ],
   "source": [
    "import json\n",
    "import urllib.request\n",
    "import xml.etree.ElementTree as ET\n",
    "\n",
    "url = input('Enter location: ')\n",
    "if len(url) < 1 : \n",
    "    url = 'http://py4e-data.dr-chuck.net/comments_2214787.json'\n",
    "sum=0\n",
    "print('Retrieving', url)\n",
    "uh = urllib.request.urlopen(url)\n",
    "data = uh.read()\n",
    "\n",
    "\n",
    "info = json.loads(data)\n",
    "\n",
    "\n",
    "for item in info['comments']:\n",
    "    sum=sum+(item['count'])\n",
    "    #print('Id', item['id'])\n",
    "    #print('Attribute', item['x'])\n",
    "print('Sum:', sum)"
   ]
  },
  {
   "cell_type": "markdown",
   "id": "533c21ad",
   "metadata": {},
   "source": []
  }
 ],
 "metadata": {
  "kernelspec": {
   "display_name": "jupyter",
   "language": "python",
   "name": "python3"
  },
  "language_info": {
   "codemirror_mode": {
    "name": "ipython",
    "version": 3
   },
   "file_extension": ".py",
   "mimetype": "text/x-python",
   "name": "python",
   "nbconvert_exporter": "python",
   "pygments_lexer": "ipython3",
   "version": "3.13.2"
  }
 },
 "nbformat": 4,
 "nbformat_minor": 5
}
