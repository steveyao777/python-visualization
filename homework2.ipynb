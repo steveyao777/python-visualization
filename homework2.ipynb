{
 "cells": [
  {
   "cell_type": "code",
   "execution_count": 44,
   "id": "be45fac8",
   "metadata": {},
   "outputs": [
    {
     "name": "stdout",
     "output_type": "stream",
     "text": [
      "https://py4e-data.dr-chuck.net/known_by_Morgen.html\n",
      "Morgen\n",
      "http://py4e-data.dr-chuck.net/known_by_Sno.html\n",
      "Sno\n",
      "http://py4e-data.dr-chuck.net/known_by_Kyden.html\n",
      "Kyden\n",
      "http://py4e-data.dr-chuck.net/known_by_Calypso.html\n",
      "Calypso\n",
      "http://py4e-data.dr-chuck.net/known_by_Ellyn.html\n",
      "Ellyn\n",
      "http://py4e-data.dr-chuck.net/known_by_Harris.html\n",
      "Harris\n",
      "http://py4e-data.dr-chuck.net/known_by_Sharlyn.html\n",
      "Sharlyn\n",
      "http://py4e-data.dr-chuck.net/known_by_Roy.html\n",
      "Roy\n",
      "http://py4e-data.dr-chuck.net/known_by_Lillay.html\n",
      "Lillay\n"
     ]
    }
   ],
   "source": [
    "# To run this, download the BeautifulSoup zip file\n",
    "# http://www.py4e.com/code3/bs4.zip\n",
    "# and unzip it in the same directory as this file\n",
    "#https://py4e-data.dr-chuck.net/known_by_Fikret.html\n",
    "# https://py4e-data.dr-chuck.net/known_by_Morgen.html\n",
    "\n",
    "import urllib.request, urllib.parse, urllib.error\n",
    "from bs4 import BeautifulSoup\n",
    "import ssl\n",
    "\n",
    "# Ignore SSL certificate errors\n",
    "ctx = ssl.create_default_context()\n",
    "ctx.check_hostname = False\n",
    "ctx.verify_mode = ssl.CERT_NONE\n",
    "\n",
    "url = input('Enter - ')\n",
    "#count = input('Enter count: ')\n",
    "#positionn = input('Enter position: ')\n",
    "if len(url) < 1:\n",
    "    url = 'https://py4e-data.dr-chuck.net/known_by_Morgen.html'\n",
    "\n",
    "i=0\n",
    "count = 8\n",
    "position = 17\n",
    "\n",
    "\n",
    "while i <= int(count):\n",
    "    print(url)\n",
    "    html = urllib.request.urlopen(url, context=ctx).read()\n",
    "    soup = BeautifulSoup(html, 'html.parser')\n",
    "    title=soup('title')\n",
    "    #wholeline=(title[0].contents[0])\n",
    "    #print(wholeline)\n",
    "    #把wholeline的第三个单词打印出来    \n",
    "    #print((title[0].contents[0]).split()[2])\n",
    "    print((title[0].contents[0]).split()[2])\n",
    "    #print((title[0].contents[0]))\n",
    "    #print(title[0])\n",
    "    tags = soup('a')\n",
    "    url=tags[17].get('href', None)\n",
    "    # Retrieve all of the anchor tags\n",
    "    #tags = soup('a')\n",
    "    # Look for the next anchor tag\n",
    "    #tag=tags[2]\n",
    "    i=i+1\n",
    "    \n",
    "    \n",
    "\n",
    "    \n",
    "    \n"
   ]
  },
  {
   "cell_type": "code",
   "execution_count": null,
   "id": "5f2678e3",
   "metadata": {},
   "outputs": [],
   "source": [
    "position = 3\n",
    "# Retrieve all of the anchor tags\n",
    "\n",
    "for i in line(4):\n",
    "    soup('href))'\n",
    "    url = soup.get('href', None)\n",
    "    print(url)\n",
    "    html = urllib.request.urlopen(url, context=ctx).read()\n",
    "    soup = BeautifulSoup(html, 'html.parser')\n",
    "    i=i+1\n",
    "    print(url)\n",
    "    \n",
    "    url = tags[position-1].get('href', None)\n",
    "for tag in tags:\n",
    "   print(tag.get('href', None))"
   ]
  }
 ],
 "metadata": {
  "kernelspec": {
   "display_name": "jupyter",
   "language": "python",
   "name": "python3"
  },
  "language_info": {
   "codemirror_mode": {
    "name": "ipython",
    "version": 3
   },
   "file_extension": ".py",
   "mimetype": "text/x-python",
   "name": "python",
   "nbconvert_exporter": "python",
   "pygments_lexer": "ipython3",
   "version": "3.13.2"
  }
 },
 "nbformat": 4,
 "nbformat_minor": 5
}
