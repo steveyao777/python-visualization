{
 "cells": [
  {
   "cell_type": "code",
   "execution_count": 4,
   "id": "d68e975d",
   "metadata": {},
   "outputs": [
    {
     "name": "stdout",
     "output_type": "stream",
     "text": [
      "[<span class=\"comments\">95</span>, <span class=\"comments\">94</span>, <span class=\"comments\">93</span>, <span class=\"comments\">93</span>, <span class=\"comments\">92</span>, <span class=\"comments\">85</span>, <span class=\"comments\">83</span>, <span class=\"comments\">83</span>, <span class=\"comments\">82</span>, <span class=\"comments\">82</span>, <span class=\"comments\">76</span>, <span class=\"comments\">71</span>, <span class=\"comments\">71</span>, <span class=\"comments\">69</span>, <span class=\"comments\">66</span>, <span class=\"comments\">65</span>, <span class=\"comments\">64</span>, <span class=\"comments\">63</span>, <span class=\"comments\">62</span>, <span class=\"comments\">61</span>, <span class=\"comments\">58</span>, <span class=\"comments\">56</span>, <span class=\"comments\">55</span>, <span class=\"comments\">54</span>, <span class=\"comments\">52</span>, <span class=\"comments\">51</span>, <span class=\"comments\">44</span>, <span class=\"comments\">43</span>, <span class=\"comments\">43</span>, <span class=\"comments\">42</span>, <span class=\"comments\">40</span>, <span class=\"comments\">39</span>, <span class=\"comments\">38</span>, <span class=\"comments\">37</span>, <span class=\"comments\">36</span>, <span class=\"comments\">32</span>, <span class=\"comments\">31</span>, <span class=\"comments\">29</span>, <span class=\"comments\">27</span>, <span class=\"comments\">25</span>, <span class=\"comments\">22</span>, <span class=\"comments\">21</span>, <span class=\"comments\">21</span>, <span class=\"comments\">20</span>, <span class=\"comments\">17</span>, <span class=\"comments\">16</span>, <span class=\"comments\">16</span>, <span class=\"comments\">8</span>, <span class=\"comments\">4</span>, <span class=\"comments\">1</span>]\n",
      "Sum: 2528\n"
     ]
    }
   ],
   "source": [
    "\n",
    "# To run this, download the BeautifulSoup zip file\n",
    "# http://www.py4e.com/code3/bs4.zip\n",
    "# and unzip it in the same directory as this file\n",
    "\n",
    "from urllib.request import urlopen\n",
    "from bs4 import BeautifulSoup\n",
    "import ssl\n",
    "\n",
    "# Ignore SSL certificate errors\n",
    "ctx = ssl.create_default_context()\n",
    "ctx.check_hostname = False\n",
    "ctx.verify_mode = ssl.CERT_NONE\n",
    "\n",
    "url = input('Enter - ')\n",
    "if len(url) < 1:\n",
    "    url = \"http://py4e-data.dr-chuck.net/comments_2214784.html\"\n",
    "html = urlopen(url, context=ctx).read()\n",
    "soup = BeautifulSoup(html, \"html.parser\")\n",
    "\n",
    "\n",
    "tags = soup('span')\n",
    "print(tags)\n",
    "sum = 0\n",
    "for tag in tags:\n",
    "    \n",
    "    sum += int(tag.contents[0])\n",
    "    \n",
    "print('Sum:', sum)   \n",
    "\n",
    "\n",
    "\n",
    "\n",
    "#for tag in tags:\n",
    "#    # Look at the parts of a tag\n",
    "#    print('TAG:', tag)\n",
    "#    print('URL:', tag.get('href', None))\n",
    "#    print('Contents:', tag.contents[0])\n",
    "#   print('Attrs:', tag.attrs)\n"
   ]
  }
 ],
 "metadata": {
  "kernelspec": {
   "display_name": "jupyter",
   "language": "python",
   "name": "python3"
  },
  "language_info": {
   "codemirror_mode": {
    "name": "ipython",
    "version": 3
   },
   "file_extension": ".py",
   "mimetype": "text/x-python",
   "name": "python",
   "nbconvert_exporter": "python",
   "pygments_lexer": "ipython3",
   "version": "3.13.2"
  }
 },
 "nbformat": 4,
 "nbformat_minor": 5
}
